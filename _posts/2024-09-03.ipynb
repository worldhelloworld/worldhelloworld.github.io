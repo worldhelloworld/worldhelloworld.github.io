{
 "cells": [
  {
   "cell_type": "markdown",
   "metadata": {},
   "source": [
    "---\n",
    "title: “2024년 9월 3일 화”\n",
    "categories: - blogging\n",
    "last_modified_at: 2024-09-03\n",
    "toc: true\n",
    "---\n",
    "메이웨더\n",
    "플로이드 메이웨더 주니어\n",
    "https://youtu.be/tA14uRHqqWs?si=g19H4Oi302p7AGWp"
   ]
  }
 ],
 "metadata": {
  "language_info": {
   "name": "python"
  }
 },
 "nbformat": 4,
 "nbformat_minor": 2
}
